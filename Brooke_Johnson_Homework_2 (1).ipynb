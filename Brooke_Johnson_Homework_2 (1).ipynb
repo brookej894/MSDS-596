{
  "nbformat": 4,
  "nbformat_minor": 0,
  "metadata": {
    "colab": {
      "name": "Brooke_Johnson_Homework 2",
      "provenance": [],
      "collapsed_sections": []
    },
    "kernelspec": {
      "name": "python3",
      "display_name": "Python 3"
    }
  },
  "cells": [
    {
      "cell_type": "markdown",
      "metadata": {
        "id": "sbV99ABnXX5N"
      },
      "source": [
        "# Homework 2 (100 points)\n",
        "## Due: Tuesday, Sept 14 @ 6:30 PM \n",
        "\n",
        "**The very first thing you should do is save your own copy of this Homework by clicking on File -> \"Save a copy in Drive\"**\n",
        "\n",
        "This homework is divided into 4 sections which all perform different tasks on the initial data provided.  Read the data description below carefully to understand the data, then work on each section.\n",
        "\n",
        "When you complete this assignment, **please submit 1 file and 1 link via Canvas before the deadline.**\n",
        "\n",
        "\n",
        "1.   Your Jupyter Notebook code as a .ipynb file (File -> \"Download .ipynb\")\n",
        "2.   As a comment on your .ipynb submission please include a link to your Google CoLab Jupyter notebook. Click the \"Share\" button in the top right.  Ensure that anyone with the link has at least \"Commenter\" access. **Once you submit your HW on Canvas, please do not make any more edits to the Jupyter notebook until after your HW is graded**\n",
        "\n",
        "Please use the naming convention:  \n",
        "\n",
        "**firstname_lastname_homework2.ipynb**\n",
        "\n",
        "**Until both steps 1 and 2 have been completed, your assignment is considered INCOMPLETE and you will receive -10% per day late until the assignment is completed.**\n"
      ]
    },
    {
      "cell_type": "markdown",
      "metadata": {
        "id": "XBto1iw5XphZ"
      },
      "source": [
        "## Data Description\n",
        "\n",
        "This dataset consists of tv shows and movies available on Netflix as of 2019. The dataset is collected from Flixable which is a third-party Netflix search engine.\n",
        "\n",
        "See Kaggle page for more info: https://www.kaggle.com/shivamb/netflix-shows\n",
        "\n",
        "The data is available in the Canvas Module for **pandas** under the name `netflix_titles.csv`\n",
        "\n",
        "Load this data into `pandas` and use `index_col='show_id'`\n"
      ]
    },
    {
      "cell_type": "code",
      "metadata": {
        "id": "0qQ0Yui-KX_e"
      },
      "source": [
        "# Write code to load data below\n",
        "import pandas as pd\n",
        "\n",
        "netflix = pd.read_csv('/content/drive/MyDrive/Data/netflix_titles.csv', index_col = 'show_id')"
      ],
      "execution_count": 2,
      "outputs": []
    },
    {
      "cell_type": "code",
      "metadata": {
        "colab": {
          "base_uri": "https://localhost:8080/"
        },
        "id": "UyitP8m9UJet",
        "outputId": "b20a608d-246d-46e1-e4c3-af79ada4f142"
      },
      "source": [
        "from google.colab import drive\n",
        "drive.mount('/content/drive')"
      ],
      "execution_count": 1,
      "outputs": [
        {
          "output_type": "stream",
          "name": "stdout",
          "text": [
            "Mounted at /content/drive\n"
          ]
        }
      ]
    },
    {
      "cell_type": "markdown",
      "metadata": {
        "id": "R0rq7c8vPTr1"
      },
      "source": [
        "## Section 1: Dataset Overview\n",
        "**2.5 points each (total 10 points)**\n",
        "\n",
        "Let's get an initial understanding of the data we are working with. Provide answers and code below.\n",
        "\n",
        "1.  How many rows and columns are in this dataset?\n",
        "2.  Provide a list of the column names\n",
        "3.  Print the **first 10 rows** of this dataset\n",
        "4.  Use `.info()` to understand where there may be null values in the data"
      ]
    },
    {
      "cell_type": "code",
      "metadata": {
        "id": "S_piilRyQBkN",
        "colab": {
          "base_uri": "https://localhost:8080/"
        },
        "outputId": "93475366-2f0f-4ac5-f98f-9ec643890642"
      },
      "source": [
        "# Write code below\n",
        "netflix.shape"
      ],
      "execution_count": 3,
      "outputs": [
        {
          "output_type": "execute_result",
          "data": {
            "text/plain": [
              "(6234, 11)"
            ]
          },
          "metadata": {},
          "execution_count": 3
        }
      ]
    },
    {
      "cell_type": "code",
      "metadata": {
        "colab": {
          "base_uri": "https://localhost:8080/"
        },
        "id": "cdANvqv-UWiL",
        "outputId": "e44e9832-86ce-4981-a504-9ddb65c1544f"
      },
      "source": [
        "netflix.columns"
      ],
      "execution_count": 4,
      "outputs": [
        {
          "output_type": "execute_result",
          "data": {
            "text/plain": [
              "Index(['type', 'title', 'director', 'cast', 'country', 'date_added',\n",
              "       'release_year', 'rating', 'duration', 'listed_in', 'description'],\n",
              "      dtype='object')"
            ]
          },
          "metadata": {},
          "execution_count": 4
        }
      ]
    },
    {
      "cell_type": "code",
      "metadata": {
        "colab": {
          "base_uri": "https://localhost:8080/",
          "height": 645
        },
        "id": "8I2rIWy1UZnC",
        "outputId": "6a0af3a2-baed-4c25-8b04-107a641ecf92"
      },
      "source": [
        "netflix.head(n=10)"
      ],
      "execution_count": 5,
      "outputs": [
        {
          "output_type": "execute_result",
          "data": {
            "text/html": [
              "<div>\n",
              "<style scoped>\n",
              "    .dataframe tbody tr th:only-of-type {\n",
              "        vertical-align: middle;\n",
              "    }\n",
              "\n",
              "    .dataframe tbody tr th {\n",
              "        vertical-align: top;\n",
              "    }\n",
              "\n",
              "    .dataframe thead th {\n",
              "        text-align: right;\n",
              "    }\n",
              "</style>\n",
              "<table border=\"1\" class=\"dataframe\">\n",
              "  <thead>\n",
              "    <tr style=\"text-align: right;\">\n",
              "      <th></th>\n",
              "      <th>type</th>\n",
              "      <th>title</th>\n",
              "      <th>director</th>\n",
              "      <th>cast</th>\n",
              "      <th>country</th>\n",
              "      <th>date_added</th>\n",
              "      <th>release_year</th>\n",
              "      <th>rating</th>\n",
              "      <th>duration</th>\n",
              "      <th>listed_in</th>\n",
              "      <th>description</th>\n",
              "    </tr>\n",
              "    <tr>\n",
              "      <th>show_id</th>\n",
              "      <th></th>\n",
              "      <th></th>\n",
              "      <th></th>\n",
              "      <th></th>\n",
              "      <th></th>\n",
              "      <th></th>\n",
              "      <th></th>\n",
              "      <th></th>\n",
              "      <th></th>\n",
              "      <th></th>\n",
              "      <th></th>\n",
              "    </tr>\n",
              "  </thead>\n",
              "  <tbody>\n",
              "    <tr>\n",
              "      <th>81145628</th>\n",
              "      <td>Movie</td>\n",
              "      <td>Norm of the North: King Sized Adventure</td>\n",
              "      <td>Richard Finn, Tim Maltby</td>\n",
              "      <td>Alan Marriott, Andrew Toth, Brian Dobson, Cole...</td>\n",
              "      <td>United States, India, South Korea, China</td>\n",
              "      <td>September 9, 2019</td>\n",
              "      <td>2019</td>\n",
              "      <td>TV-PG</td>\n",
              "      <td>90 min</td>\n",
              "      <td>Children &amp; Family Movies, Comedies</td>\n",
              "      <td>Before planning an awesome wedding for his gra...</td>\n",
              "    </tr>\n",
              "    <tr>\n",
              "      <th>80117401</th>\n",
              "      <td>Movie</td>\n",
              "      <td>Jandino: Whatever it Takes</td>\n",
              "      <td>NaN</td>\n",
              "      <td>Jandino Asporaat</td>\n",
              "      <td>United Kingdom</td>\n",
              "      <td>September 9, 2016</td>\n",
              "      <td>2016</td>\n",
              "      <td>TV-MA</td>\n",
              "      <td>94 min</td>\n",
              "      <td>Stand-Up Comedy</td>\n",
              "      <td>Jandino Asporaat riffs on the challenges of ra...</td>\n",
              "    </tr>\n",
              "    <tr>\n",
              "      <th>70234439</th>\n",
              "      <td>TV Show</td>\n",
              "      <td>Transformers Prime</td>\n",
              "      <td>NaN</td>\n",
              "      <td>Peter Cullen, Sumalee Montano, Frank Welker, J...</td>\n",
              "      <td>United States</td>\n",
              "      <td>September 8, 2018</td>\n",
              "      <td>2013</td>\n",
              "      <td>TV-Y7-FV</td>\n",
              "      <td>1 Season</td>\n",
              "      <td>Kids' TV</td>\n",
              "      <td>With the help of three human allies, the Autob...</td>\n",
              "    </tr>\n",
              "    <tr>\n",
              "      <th>80058654</th>\n",
              "      <td>TV Show</td>\n",
              "      <td>Transformers: Robots in Disguise</td>\n",
              "      <td>NaN</td>\n",
              "      <td>Will Friedle, Darren Criss, Constance Zimmer, ...</td>\n",
              "      <td>United States</td>\n",
              "      <td>September 8, 2018</td>\n",
              "      <td>2016</td>\n",
              "      <td>TV-Y7</td>\n",
              "      <td>1 Season</td>\n",
              "      <td>Kids' TV</td>\n",
              "      <td>When a prison ship crash unleashes hundreds of...</td>\n",
              "    </tr>\n",
              "    <tr>\n",
              "      <th>80125979</th>\n",
              "      <td>Movie</td>\n",
              "      <td>#realityhigh</td>\n",
              "      <td>Fernando Lebrija</td>\n",
              "      <td>Nesta Cooper, Kate Walsh, John Michael Higgins...</td>\n",
              "      <td>United States</td>\n",
              "      <td>September 8, 2017</td>\n",
              "      <td>2017</td>\n",
              "      <td>TV-14</td>\n",
              "      <td>99 min</td>\n",
              "      <td>Comedies</td>\n",
              "      <td>When nerdy high schooler Dani finally attracts...</td>\n",
              "    </tr>\n",
              "    <tr>\n",
              "      <th>80163890</th>\n",
              "      <td>TV Show</td>\n",
              "      <td>Apaches</td>\n",
              "      <td>NaN</td>\n",
              "      <td>Alberto Ammann, Eloy Azorín, Verónica Echegui,...</td>\n",
              "      <td>Spain</td>\n",
              "      <td>September 8, 2017</td>\n",
              "      <td>2016</td>\n",
              "      <td>TV-MA</td>\n",
              "      <td>1 Season</td>\n",
              "      <td>Crime TV Shows, International TV Shows, Spanis...</td>\n",
              "      <td>A young journalist is forced into a life of cr...</td>\n",
              "    </tr>\n",
              "    <tr>\n",
              "      <th>70304989</th>\n",
              "      <td>Movie</td>\n",
              "      <td>Automata</td>\n",
              "      <td>Gabe Ibáñez</td>\n",
              "      <td>Antonio Banderas, Dylan McDermott, Melanie Gri...</td>\n",
              "      <td>Bulgaria, United States, Spain, Canada</td>\n",
              "      <td>September 8, 2017</td>\n",
              "      <td>2014</td>\n",
              "      <td>R</td>\n",
              "      <td>110 min</td>\n",
              "      <td>International Movies, Sci-Fi &amp; Fantasy, Thrillers</td>\n",
              "      <td>In a dystopian future, an insurance adjuster f...</td>\n",
              "    </tr>\n",
              "    <tr>\n",
              "      <th>80164077</th>\n",
              "      <td>Movie</td>\n",
              "      <td>Fabrizio Copano: Solo pienso en mi</td>\n",
              "      <td>Rodrigo Toro, Francisco Schultz</td>\n",
              "      <td>Fabrizio Copano</td>\n",
              "      <td>Chile</td>\n",
              "      <td>September 8, 2017</td>\n",
              "      <td>2017</td>\n",
              "      <td>TV-MA</td>\n",
              "      <td>60 min</td>\n",
              "      <td>Stand-Up Comedy</td>\n",
              "      <td>Fabrizio Copano takes audience participation t...</td>\n",
              "    </tr>\n",
              "    <tr>\n",
              "      <th>80117902</th>\n",
              "      <td>TV Show</td>\n",
              "      <td>Fire Chasers</td>\n",
              "      <td>NaN</td>\n",
              "      <td>NaN</td>\n",
              "      <td>United States</td>\n",
              "      <td>September 8, 2017</td>\n",
              "      <td>2017</td>\n",
              "      <td>TV-MA</td>\n",
              "      <td>1 Season</td>\n",
              "      <td>Docuseries, Science &amp; Nature TV</td>\n",
              "      <td>As California's 2016 fire season rages, brave ...</td>\n",
              "    </tr>\n",
              "    <tr>\n",
              "      <th>70304990</th>\n",
              "      <td>Movie</td>\n",
              "      <td>Good People</td>\n",
              "      <td>Henrik Ruben Genz</td>\n",
              "      <td>James Franco, Kate Hudson, Tom Wilkinson, Omar...</td>\n",
              "      <td>United States, United Kingdom, Denmark, Sweden</td>\n",
              "      <td>September 8, 2017</td>\n",
              "      <td>2014</td>\n",
              "      <td>R</td>\n",
              "      <td>90 min</td>\n",
              "      <td>Action &amp; Adventure, Thrillers</td>\n",
              "      <td>A struggling couple can't believe their luck w...</td>\n",
              "    </tr>\n",
              "  </tbody>\n",
              "</table>\n",
              "</div>"
            ],
            "text/plain": [
              "             type  ...                                        description\n",
              "show_id            ...                                                   \n",
              "81145628    Movie  ...  Before planning an awesome wedding for his gra...\n",
              "80117401    Movie  ...  Jandino Asporaat riffs on the challenges of ra...\n",
              "70234439  TV Show  ...  With the help of three human allies, the Autob...\n",
              "80058654  TV Show  ...  When a prison ship crash unleashes hundreds of...\n",
              "80125979    Movie  ...  When nerdy high schooler Dani finally attracts...\n",
              "80163890  TV Show  ...  A young journalist is forced into a life of cr...\n",
              "70304989    Movie  ...  In a dystopian future, an insurance adjuster f...\n",
              "80164077    Movie  ...  Fabrizio Copano takes audience participation t...\n",
              "80117902  TV Show  ...  As California's 2016 fire season rages, brave ...\n",
              "70304990    Movie  ...  A struggling couple can't believe their luck w...\n",
              "\n",
              "[10 rows x 11 columns]"
            ]
          },
          "metadata": {},
          "execution_count": 5
        }
      ]
    },
    {
      "cell_type": "code",
      "metadata": {
        "colab": {
          "base_uri": "https://localhost:8080/"
        },
        "id": "-kZ2j-T9Ud7C",
        "outputId": "bceb2089-8373-4968-d4db-1460f235cce0"
      },
      "source": [
        "netflix.info()"
      ],
      "execution_count": 6,
      "outputs": [
        {
          "output_type": "stream",
          "name": "stdout",
          "text": [
            "<class 'pandas.core.frame.DataFrame'>\n",
            "Int64Index: 6234 entries, 81145628 to 70153404\n",
            "Data columns (total 11 columns):\n",
            " #   Column        Non-Null Count  Dtype \n",
            "---  ------        --------------  ----- \n",
            " 0   type          6234 non-null   object\n",
            " 1   title         6234 non-null   object\n",
            " 2   director      4265 non-null   object\n",
            " 3   cast          5664 non-null   object\n",
            " 4   country       5758 non-null   object\n",
            " 5   date_added    6223 non-null   object\n",
            " 6   release_year  6234 non-null   int64 \n",
            " 7   rating        6224 non-null   object\n",
            " 8   duration      6234 non-null   object\n",
            " 9   listed_in     6234 non-null   object\n",
            " 10  description   6234 non-null   object\n",
            "dtypes: int64(1), object(10)\n",
            "memory usage: 584.4+ KB\n"
          ]
        }
      ]
    },
    {
      "cell_type": "markdown",
      "metadata": {
        "id": "1KHOUpc8KURA"
      },
      "source": [
        "## Section 2:  Data Cleaning\n",
        "**5 points each (total 10 points)**\n",
        "\n",
        "Let's take some steps to improve the data set for analysis purposes.\n",
        "\n",
        "\n",
        "1.   There are NA/NaN values in `director`, `cast`, and `country`.  Let's replace these with the value `\"Unknown\"` using `fillna`\n",
        "2.   Create a new column `is_produced_in_usa` which is True if `country` contains the word `United States` and False otherwise.  (Hint: Sometimes `country` contains multiple countries separated by commas.  We want to be able to catch `United States` even if it's in this list with other countries also.\n",
        "\n",
        "***Challenge (not required for points)*** \n",
        "Make a new column called `duration_bucket`.  This column will bucket the values found in `duration`, similar to how we grouped values in HW1.  Examples of buckets might be `61-90 minutes`, `91-120 minutes`, `120+ minutes`, or `3+ seasons`.  To do this, I recommend creating a function that converts the value in `duration` to the `bucket_name`, then using the `pandas` `.apply()` function to the `duration` column to create a transformed column, which you can then insert into the dataframe.\n",
        "\n",
        "Reference: https://pandas.pydata.org/pandas-docs/stable/reference/api/pandas.Series.apply.html"
      ]
    },
    {
      "cell_type": "code",
      "metadata": {
        "colab": {
          "base_uri": "https://localhost:8080/"
        },
        "id": "GkrF8bJqUbB9",
        "outputId": "b86de344-3518-456b-ad98-eea31d7f712a"
      },
      "source": [
        "netflix.count()"
      ],
      "execution_count": 7,
      "outputs": [
        {
          "output_type": "execute_result",
          "data": {
            "text/plain": [
              "type            6234\n",
              "title           6234\n",
              "director        4265\n",
              "cast            5664\n",
              "country         5758\n",
              "date_added      6223\n",
              "release_year    6234\n",
              "rating          6224\n",
              "duration        6234\n",
              "listed_in       6234\n",
              "description     6234\n",
              "dtype: int64"
            ]
          },
          "metadata": {},
          "execution_count": 7
        }
      ]
    },
    {
      "cell_type": "code",
      "metadata": {
        "id": "Rgfq7zngUh25"
      },
      "source": [
        "netflix.fillna(\"Unknown\", inplace=True)"
      ],
      "execution_count": 8,
      "outputs": []
    },
    {
      "cell_type": "code",
      "metadata": {
        "colab": {
          "base_uri": "https://localhost:8080/"
        },
        "id": "MPit-TzfUkOI",
        "outputId": "889ec9a6-18e5-40aa-f065-4271d1b76182"
      },
      "source": [
        "netflix.count()"
      ],
      "execution_count": 9,
      "outputs": [
        {
          "output_type": "execute_result",
          "data": {
            "text/plain": [
              "type            6234\n",
              "title           6234\n",
              "director        6234\n",
              "cast            6234\n",
              "country         6234\n",
              "date_added      6234\n",
              "release_year    6234\n",
              "rating          6234\n",
              "duration        6234\n",
              "listed_in       6234\n",
              "description     6234\n",
              "dtype: int64"
            ]
          },
          "metadata": {},
          "execution_count": 9
        }
      ]
    },
    {
      "cell_type": "code",
      "metadata": {
        "id": "L4LQBkEYUpHg"
      },
      "source": [
        "is_produced_in_usa = netflix.country.str.contains(\"United States\")\n",
        "netflix['is_produced_in_usa'] = is_produced_in_usa"
      ],
      "execution_count": 10,
      "outputs": []
    },
    {
      "cell_type": "code",
      "metadata": {
        "colab": {
          "base_uri": "https://localhost:8080/",
          "height": 450
        },
        "id": "bkQVCN7pUrTq",
        "outputId": "633f514d-d9f3-4858-9283-e3d1a23442ac"
      },
      "source": [
        "netflix[[\"country\", \"is_produced_in_usa\"]]"
      ],
      "execution_count": 11,
      "outputs": [
        {
          "output_type": "execute_result",
          "data": {
            "text/html": [
              "<div>\n",
              "<style scoped>\n",
              "    .dataframe tbody tr th:only-of-type {\n",
              "        vertical-align: middle;\n",
              "    }\n",
              "\n",
              "    .dataframe tbody tr th {\n",
              "        vertical-align: top;\n",
              "    }\n",
              "\n",
              "    .dataframe thead th {\n",
              "        text-align: right;\n",
              "    }\n",
              "</style>\n",
              "<table border=\"1\" class=\"dataframe\">\n",
              "  <thead>\n",
              "    <tr style=\"text-align: right;\">\n",
              "      <th></th>\n",
              "      <th>country</th>\n",
              "      <th>is_produced_in_usa</th>\n",
              "    </tr>\n",
              "    <tr>\n",
              "      <th>show_id</th>\n",
              "      <th></th>\n",
              "      <th></th>\n",
              "    </tr>\n",
              "  </thead>\n",
              "  <tbody>\n",
              "    <tr>\n",
              "      <th>81145628</th>\n",
              "      <td>United States, India, South Korea, China</td>\n",
              "      <td>True</td>\n",
              "    </tr>\n",
              "    <tr>\n",
              "      <th>80117401</th>\n",
              "      <td>United Kingdom</td>\n",
              "      <td>False</td>\n",
              "    </tr>\n",
              "    <tr>\n",
              "      <th>70234439</th>\n",
              "      <td>United States</td>\n",
              "      <td>True</td>\n",
              "    </tr>\n",
              "    <tr>\n",
              "      <th>80058654</th>\n",
              "      <td>United States</td>\n",
              "      <td>True</td>\n",
              "    </tr>\n",
              "    <tr>\n",
              "      <th>80125979</th>\n",
              "      <td>United States</td>\n",
              "      <td>True</td>\n",
              "    </tr>\n",
              "    <tr>\n",
              "      <th>...</th>\n",
              "      <td>...</td>\n",
              "      <td>...</td>\n",
              "    </tr>\n",
              "    <tr>\n",
              "      <th>80000063</th>\n",
              "      <td>United States</td>\n",
              "      <td>True</td>\n",
              "    </tr>\n",
              "    <tr>\n",
              "      <th>70286564</th>\n",
              "      <td>United States</td>\n",
              "      <td>True</td>\n",
              "    </tr>\n",
              "    <tr>\n",
              "      <th>80116008</th>\n",
              "      <td>Unknown</td>\n",
              "      <td>False</td>\n",
              "    </tr>\n",
              "    <tr>\n",
              "      <th>70281022</th>\n",
              "      <td>United Kingdom</td>\n",
              "      <td>False</td>\n",
              "    </tr>\n",
              "    <tr>\n",
              "      <th>70153404</th>\n",
              "      <td>United States</td>\n",
              "      <td>True</td>\n",
              "    </tr>\n",
              "  </tbody>\n",
              "</table>\n",
              "<p>6234 rows × 2 columns</p>\n",
              "</div>"
            ],
            "text/plain": [
              "                                           country  is_produced_in_usa\n",
              "show_id                                                               \n",
              "81145628  United States, India, South Korea, China                True\n",
              "80117401                            United Kingdom               False\n",
              "70234439                             United States                True\n",
              "80058654                             United States                True\n",
              "80125979                             United States                True\n",
              "...                                            ...                 ...\n",
              "80000063                             United States                True\n",
              "70286564                             United States                True\n",
              "80116008                                   Unknown               False\n",
              "70281022                            United Kingdom               False\n",
              "70153404                             United States                True\n",
              "\n",
              "[6234 rows x 2 columns]"
            ]
          },
          "metadata": {},
          "execution_count": 11
        }
      ]
    },
    {
      "cell_type": "code",
      "metadata": {
        "colab": {
          "base_uri": "https://localhost:8080/"
        },
        "id": "K08PzQjuUuiD",
        "outputId": "22d37d78-dffb-4ba9-f8c6-cae858e1a16d"
      },
      "source": [
        "true_count = sum(is_produced_in_usa)\n",
        "print(\"Number of movies produced in the US\")\n",
        "print(true_count)"
      ],
      "execution_count": 12,
      "outputs": [
        {
          "output_type": "stream",
          "name": "stdout",
          "text": [
            "Number of movies produced in the US\n",
            "2610\n"
          ]
        }
      ]
    },
    {
      "cell_type": "markdown",
      "metadata": {
        "id": "jmV9J2N-xjAW"
      },
      "source": [
        "## Section 3: Data Questions\n",
        "**10 points each (50 points total)**\n",
        "\n",
        "Explore the data set to answer the questions below.  In addition to providing the answer, please provide the code you used to answer each question.\n",
        "\n",
        "1.   What % of Netflix content is produced in the USA?  You can calculate the numerator and denominator separately.  (Hint: Use the new column you created in Section 1)\n",
        "2.   List all the **movies** directed by **M. Night Shyamalan** that are available on Netflix.\n",
        "3.   Which **TV Shows produced in Japan** that were released in **2006** are available on Netflix?\n",
        "4.   How many **movies** and how many **TV shows** (reported separately) did Netflix add in the **month of July 2019**?\n",
        "5.   List the Netflix content (movies/TV shows) about the FBI (`description` contains \"FBI\") chronologically by release year (most recent first)\n",
        "\n",
        "***Challenge (not required for points)*** \n",
        "\n",
        "What % of content on Netflix is added in the same year as it is released? Does this differ by movie vs TV show?\n",
        "\n",
        "\n"
      ]
    },
    {
      "cell_type": "code",
      "metadata": {
        "id": "waBZlXwXOwOE",
        "colab": {
          "base_uri": "https://localhost:8080/"
        },
        "outputId": "00a4672a-dd5e-4423-c17d-ef90d0d1094a"
      },
      "source": [
        "#3.1 What percent of Netflix content is produced in the USA?\n",
        "perc_usa = (true_count / 6234)*100\n",
        "print(\"% produced in USA:\")\n",
        "print(perc_usa)"
      ],
      "execution_count": 13,
      "outputs": [
        {
          "output_type": "stream",
          "name": "stdout",
          "text": [
            "% produced in USA:\n",
            "41.86717998075073\n"
          ]
        }
      ]
    },
    {
      "cell_type": "code",
      "metadata": {
        "colab": {
          "base_uri": "https://localhost:8080/",
          "height": 145
        },
        "id": "gHgrOsbeUzng",
        "outputId": "4df8a760-b9e3-423b-90a3-d413d53db5fd"
      },
      "source": [
        "# 3.2 Movies produced by M. Night Shyamalan\n",
        "netflix.head()\n",
        "is_sham = netflix.director == 'M. Night Shyamalan'\n",
        "print(\"Movies directed by M. Night Shyamalan:\")\n",
        "netflix[is_sham]"
      ],
      "execution_count": 16,
      "outputs": [
        {
          "output_type": "stream",
          "name": "stdout",
          "text": [
            "Movies directed by M. Night Shyamalan:\n"
          ]
        },
        {
          "output_type": "execute_result",
          "data": {
            "text/html": [
              "<div>\n",
              "<style scoped>\n",
              "    .dataframe tbody tr th:only-of-type {\n",
              "        vertical-align: middle;\n",
              "    }\n",
              "\n",
              "    .dataframe tbody tr th {\n",
              "        vertical-align: top;\n",
              "    }\n",
              "\n",
              "    .dataframe thead th {\n",
              "        text-align: right;\n",
              "    }\n",
              "</style>\n",
              "<table border=\"1\" class=\"dataframe\">\n",
              "  <thead>\n",
              "    <tr style=\"text-align: right;\">\n",
              "      <th></th>\n",
              "      <th>type</th>\n",
              "      <th>title</th>\n",
              "      <th>director</th>\n",
              "      <th>cast</th>\n",
              "      <th>country</th>\n",
              "      <th>date_added</th>\n",
              "      <th>release_year</th>\n",
              "      <th>rating</th>\n",
              "      <th>duration</th>\n",
              "      <th>listed_in</th>\n",
              "      <th>description</th>\n",
              "      <th>is_produced_in_usa</th>\n",
              "    </tr>\n",
              "    <tr>\n",
              "      <th>show_id</th>\n",
              "      <th></th>\n",
              "      <th></th>\n",
              "      <th></th>\n",
              "      <th></th>\n",
              "      <th></th>\n",
              "      <th></th>\n",
              "      <th></th>\n",
              "      <th></th>\n",
              "      <th></th>\n",
              "      <th></th>\n",
              "      <th></th>\n",
              "      <th></th>\n",
              "    </tr>\n",
              "  </thead>\n",
              "  <tbody>\n",
              "    <tr>\n",
              "      <th>70044688</th>\n",
              "      <td>Movie</td>\n",
              "      <td>Lady in the Water</td>\n",
              "      <td>M. Night Shyamalan</td>\n",
              "      <td>Paul Giamatti, Bryce Dallas Howard, Jeffrey Wr...</td>\n",
              "      <td>United States</td>\n",
              "      <td>July 1, 2019</td>\n",
              "      <td>2006</td>\n",
              "      <td>PG-13</td>\n",
              "      <td>110 min</td>\n",
              "      <td>Sci-Fi &amp; Fantasy, Thrillers</td>\n",
              "      <td>When an apartment building manager discovers a...</td>\n",
              "      <td>True</td>\n",
              "    </tr>\n",
              "  </tbody>\n",
              "</table>\n",
              "</div>"
            ],
            "text/plain": [
              "           type  ... is_produced_in_usa\n",
              "show_id          ...                   \n",
              "70044688  Movie  ...               True\n",
              "\n",
              "[1 rows x 12 columns]"
            ]
          },
          "metadata": {},
          "execution_count": 16
        }
      ]
    },
    {
      "cell_type": "code",
      "metadata": {
        "colab": {
          "base_uri": "https://localhost:8080/",
          "height": 275
        },
        "id": "HSL71fCrU2r1",
        "outputId": "e46ffa56-ad1a-4ff3-970f-05e64d290957"
      },
      "source": [
        "# 3.3 TV shows produced in Japan and released in 2006\n",
        "\n",
        "netflix.head()\n",
        "is_tv = netflix.type == 'TV Show'\n",
        "is_japan = netflix.country == 'Japan'\n",
        "is_released = netflix.release_year == 2006\n",
        "print(\"TV shows produced in Japan and released in 2006:\")\n",
        "netflix[is_tv & is_japan & is_released]"
      ],
      "execution_count": 15,
      "outputs": [
        {
          "output_type": "stream",
          "name": "stdout",
          "text": [
            "TV shows produced in Japan and released in 2006:\n"
          ]
        },
        {
          "output_type": "execute_result",
          "data": {
            "text/html": [
              "<div>\n",
              "<style scoped>\n",
              "    .dataframe tbody tr th:only-of-type {\n",
              "        vertical-align: middle;\n",
              "    }\n",
              "\n",
              "    .dataframe tbody tr th {\n",
              "        vertical-align: top;\n",
              "    }\n",
              "\n",
              "    .dataframe thead th {\n",
              "        text-align: right;\n",
              "    }\n",
              "</style>\n",
              "<table border=\"1\" class=\"dataframe\">\n",
              "  <thead>\n",
              "    <tr style=\"text-align: right;\">\n",
              "      <th></th>\n",
              "      <th>type</th>\n",
              "      <th>title</th>\n",
              "      <th>director</th>\n",
              "      <th>cast</th>\n",
              "      <th>country</th>\n",
              "      <th>date_added</th>\n",
              "      <th>release_year</th>\n",
              "      <th>rating</th>\n",
              "      <th>duration</th>\n",
              "      <th>listed_in</th>\n",
              "      <th>description</th>\n",
              "      <th>is_produced_in_usa</th>\n",
              "    </tr>\n",
              "    <tr>\n",
              "      <th>show_id</th>\n",
              "      <th></th>\n",
              "      <th></th>\n",
              "      <th></th>\n",
              "      <th></th>\n",
              "      <th></th>\n",
              "      <th></th>\n",
              "      <th></th>\n",
              "      <th></th>\n",
              "      <th></th>\n",
              "      <th></th>\n",
              "      <th></th>\n",
              "      <th></th>\n",
              "    </tr>\n",
              "  </thead>\n",
              "  <tbody>\n",
              "    <tr>\n",
              "      <th>70204970</th>\n",
              "      <td>TV Show</td>\n",
              "      <td>DEATH NOTE</td>\n",
              "      <td>Unknown</td>\n",
              "      <td>Kappei Yamaguchi, Alessandro Juliani, Mamoru M...</td>\n",
              "      <td>Japan</td>\n",
              "      <td>October 15, 2016</td>\n",
              "      <td>2006</td>\n",
              "      <td>TV-14</td>\n",
              "      <td>1 Season</td>\n",
              "      <td>Anime Series, Crime TV Shows, International TV...</td>\n",
              "      <td>When a Japanese high schooler comes into posse...</td>\n",
              "      <td>False</td>\n",
              "    </tr>\n",
              "    <tr>\n",
              "      <th>70205014</th>\n",
              "      <td>TV Show</td>\n",
              "      <td>Ouran High School Host Club</td>\n",
              "      <td>Takuya Igarashi</td>\n",
              "      <td>Maaya Sakamoto, Monica Rial, Vic Mignogna, Luc...</td>\n",
              "      <td>Japan</td>\n",
              "      <td>April 1, 2017</td>\n",
              "      <td>2006</td>\n",
              "      <td>TV-14</td>\n",
              "      <td>1 Season</td>\n",
              "      <td>Anime Series, Romantic TV Shows, Teen TV Shows</td>\n",
              "      <td>New student Haruhi stumbles on the Ouran High ...</td>\n",
              "      <td>False</td>\n",
              "    </tr>\n",
              "    <tr>\n",
              "      <th>70204957</th>\n",
              "      <td>TV Show</td>\n",
              "      <td>Bleach</td>\n",
              "      <td>Unknown</td>\n",
              "      <td>Masakazu Morita, Fumiko Orikasa, Yuki Matsuoka...</td>\n",
              "      <td>Japan</td>\n",
              "      <td>November 3, 2018</td>\n",
              "      <td>2006</td>\n",
              "      <td>TV-14</td>\n",
              "      <td>3 Seasons</td>\n",
              "      <td>Anime Series, International TV Shows</td>\n",
              "      <td>After teenager Ichigo Kurosaki acquires superp...</td>\n",
              "      <td>False</td>\n",
              "    </tr>\n",
              "  </tbody>\n",
              "</table>\n",
              "</div>"
            ],
            "text/plain": [
              "             type  ... is_produced_in_usa\n",
              "show_id            ...                   \n",
              "70204970  TV Show  ...              False\n",
              "70205014  TV Show  ...              False\n",
              "70204957  TV Show  ...              False\n",
              "\n",
              "[3 rows x 12 columns]"
            ]
          },
          "metadata": {},
          "execution_count": 15
        }
      ]
    },
    {
      "cell_type": "code",
      "metadata": {
        "colab": {
          "base_uri": "https://localhost:8080/"
        },
        "id": "mCraK1KuU_XP",
        "outputId": "26aebde7-92f1-4e1a-e90c-671865c0b703"
      },
      "source": [
        "# 3.4 How many TV shows and how many movies did Netflix add in July 2019\n",
        "is_movie = netflix.type == \"Movie\"\n",
        "is_jul_fir = netflix.date_added >= \"July 1, 2019\"\n",
        "is_jul_last = netflix.date_added <= \"July 31, 2019\"\n",
        "\n",
        "movies_in_july = sum(is_jul_fir & is_jul_last & is_movie)\n",
        "print(\"Number of movies produced in July 2019:\")\n",
        "movies_in_july\n"
      ],
      "execution_count": 21,
      "outputs": [
        {
          "output_type": "stream",
          "name": "stdout",
          "text": [
            "Number of movies produced in July 2019:\n"
          ]
        },
        {
          "output_type": "execute_result",
          "data": {
            "text/plain": [
              "224"
            ]
          },
          "metadata": {},
          "execution_count": 21
        }
      ]
    },
    {
      "cell_type": "code",
      "metadata": {
        "colab": {
          "base_uri": "https://localhost:8080/"
        },
        "id": "aWxTEI21Vy3o",
        "outputId": "ea979f36-c063-401b-f877-8a3c0f21a7e2"
      },
      "source": [
        "is_tv = netflix.type == \"TV Show\"\n",
        "is_jul_fir = netflix.date_added >= \"July 1, 2019\"\n",
        "is_jul_last = netflix.date_added <= \"July 31, 2019\"\n",
        "\n",
        "shows_in_july = sum(is_jul_fir & is_jul_last & is_tv)\n",
        "print(\"Number of TV shows produced in July 2019:\")\n",
        "shows_in_july"
      ],
      "execution_count": 29,
      "outputs": [
        {
          "output_type": "stream",
          "name": "stdout",
          "text": [
            "Number of TV shows produced in July 2019:\n"
          ]
        },
        {
          "output_type": "execute_result",
          "data": {
            "text/plain": [
              "67"
            ]
          },
          "metadata": {},
          "execution_count": 29
        }
      ]
    },
    {
      "cell_type": "code",
      "metadata": {
        "colab": {
          "base_uri": "https://localhost:8080/",
          "height": 1000
        },
        "id": "2XbgIeaeWMrD",
        "outputId": "31829547-b14c-4b21-de11-f79d35a991a9"
      },
      "source": [
        "# 3.5 List movies/TV show about the FBI chronologically by release year (most recent first)\n",
        "fbi = netflix.description.str.contains(\"FBI\")  \n",
        "netflix[fbi].sort_values(by=['release_year'], ascending=False)"
      ],
      "execution_count": 23,
      "outputs": [
        {
          "output_type": "execute_result",
          "data": {
            "text/html": [
              "<div>\n",
              "<style scoped>\n",
              "    .dataframe tbody tr th:only-of-type {\n",
              "        vertical-align: middle;\n",
              "    }\n",
              "\n",
              "    .dataframe tbody tr th {\n",
              "        vertical-align: top;\n",
              "    }\n",
              "\n",
              "    .dataframe thead th {\n",
              "        text-align: right;\n",
              "    }\n",
              "</style>\n",
              "<table border=\"1\" class=\"dataframe\">\n",
              "  <thead>\n",
              "    <tr style=\"text-align: right;\">\n",
              "      <th></th>\n",
              "      <th>type</th>\n",
              "      <th>title</th>\n",
              "      <th>director</th>\n",
              "      <th>cast</th>\n",
              "      <th>country</th>\n",
              "      <th>date_added</th>\n",
              "      <th>release_year</th>\n",
              "      <th>rating</th>\n",
              "      <th>duration</th>\n",
              "      <th>listed_in</th>\n",
              "      <th>description</th>\n",
              "      <th>is_produced_in_usa</th>\n",
              "    </tr>\n",
              "    <tr>\n",
              "      <th>show_id</th>\n",
              "      <th></th>\n",
              "      <th></th>\n",
              "      <th></th>\n",
              "      <th></th>\n",
              "      <th></th>\n",
              "      <th></th>\n",
              "      <th></th>\n",
              "      <th></th>\n",
              "      <th></th>\n",
              "      <th></th>\n",
              "      <th></th>\n",
              "      <th></th>\n",
              "    </tr>\n",
              "  </thead>\n",
              "  <tbody>\n",
              "    <tr>\n",
              "      <th>81053953</th>\n",
              "      <td>Movie</td>\n",
              "      <td>Inside Man: Most Wanted</td>\n",
              "      <td>Michael J. Bassett</td>\n",
              "      <td>Aml Ameen, Rhea Seehorn, Roxanne McKee, Urs Re...</td>\n",
              "      <td>United States</td>\n",
              "      <td>September 24, 2019</td>\n",
              "      <td>2019</td>\n",
              "      <td>R</td>\n",
              "      <td>106 min</td>\n",
              "      <td>Action &amp; Adventure</td>\n",
              "      <td>A hotshot NYPD negotiator butts heads with the...</td>\n",
              "      <td>True</td>\n",
              "    </tr>\n",
              "    <tr>\n",
              "      <th>70281312</th>\n",
              "      <td>TV Show</td>\n",
              "      <td>The Blacklist</td>\n",
              "      <td>Unknown</td>\n",
              "      <td>James Spader, Megan Boone, Diego Klattenhoff, ...</td>\n",
              "      <td>United States</td>\n",
              "      <td>September 19, 2019</td>\n",
              "      <td>2019</td>\n",
              "      <td>TV-14</td>\n",
              "      <td>6 Seasons</td>\n",
              "      <td>Crime TV Shows, TV Dramas, TV Thrillers</td>\n",
              "      <td>After turning himself in, a brilliant fugitive...</td>\n",
              "      <td>True</td>\n",
              "    </tr>\n",
              "    <tr>\n",
              "      <th>80114855</th>\n",
              "      <td>TV Show</td>\n",
              "      <td>MINDHUNTER</td>\n",
              "      <td>Unknown</td>\n",
              "      <td>Jonathan Groff, Holt McCallany, Anna Torv, Cot...</td>\n",
              "      <td>United States</td>\n",
              "      <td>August 16, 2019</td>\n",
              "      <td>2019</td>\n",
              "      <td>TV-MA</td>\n",
              "      <td>2 Seasons</td>\n",
              "      <td>Crime TV Shows, TV Dramas, TV Mysteries</td>\n",
              "      <td>In the late 1970s two FBI agents expand crimin...</td>\n",
              "      <td>True</td>\n",
              "    </tr>\n",
              "    <tr>\n",
              "      <th>80077417</th>\n",
              "      <td>TV Show</td>\n",
              "      <td>Colony</td>\n",
              "      <td>Unknown</td>\n",
              "      <td>Josh Holloway, Sarah Wayne Callies, Peter Jaco...</td>\n",
              "      <td>United States</td>\n",
              "      <td>May 2, 2019</td>\n",
              "      <td>2018</td>\n",
              "      <td>TV-14</td>\n",
              "      <td>3 Seasons</td>\n",
              "      <td>TV Action &amp; Adventure, TV Dramas, TV Sci-Fi &amp; ...</td>\n",
              "      <td>When LA is invaded by outside forces and becom...</td>\n",
              "      <td>True</td>\n",
              "    </tr>\n",
              "    <tr>\n",
              "      <th>80063740</th>\n",
              "      <td>TV Show</td>\n",
              "      <td>Quantico</td>\n",
              "      <td>Unknown</td>\n",
              "      <td>Priyanka Chopra, Josh Hopkins, Jake McLaughlin...</td>\n",
              "      <td>United States</td>\n",
              "      <td>September 2, 2018</td>\n",
              "      <td>2018</td>\n",
              "      <td>TV-14</td>\n",
              "      <td>3 Seasons</td>\n",
              "      <td>Crime TV Shows, TV Dramas, TV Mysteries</td>\n",
              "      <td>When evidence in a deadly terrorist attack imp...</td>\n",
              "      <td>True</td>\n",
              "    </tr>\n",
              "    <tr>\n",
              "      <th>80173176</th>\n",
              "      <td>Movie</td>\n",
              "      <td>The Invisible Guardian</td>\n",
              "      <td>Fernando González Molina</td>\n",
              "      <td>Marta Etura, Elvira Mínguez, Francesc Orella, ...</td>\n",
              "      <td>Spain, Germany</td>\n",
              "      <td>August 3, 2017</td>\n",
              "      <td>2017</td>\n",
              "      <td>TV-MA</td>\n",
              "      <td>129 min</td>\n",
              "      <td>International Movies, Thrillers</td>\n",
              "      <td>When an FBI-trained cop returns to her Navarre...</td>\n",
              "      <td>False</td>\n",
              "    </tr>\n",
              "    <tr>\n",
              "      <th>80201750</th>\n",
              "      <td>TV Show</td>\n",
              "      <td>Deep Undercover Collection</td>\n",
              "      <td>Unknown</td>\n",
              "      <td>Dave B. Mitchell</td>\n",
              "      <td>United States</td>\n",
              "      <td>July 20, 2018</td>\n",
              "      <td>2017</td>\n",
              "      <td>TV-14</td>\n",
              "      <td>3 Seasons</td>\n",
              "      <td>Crime TV Shows, Docuseries</td>\n",
              "      <td>Former FBI agent Joe Pistone, the real-life \"D...</td>\n",
              "      <td>True</td>\n",
              "    </tr>\n",
              "    <tr>\n",
              "      <th>70153390</th>\n",
              "      <td>TV Show</td>\n",
              "      <td>Criminal Minds</td>\n",
              "      <td>Unknown</td>\n",
              "      <td>Mandy Patinkin, Joe Mantegna, Thomas Gibson, S...</td>\n",
              "      <td>United States, Canada</td>\n",
              "      <td>June 30, 2017</td>\n",
              "      <td>2017</td>\n",
              "      <td>TV-14</td>\n",
              "      <td>12 Seasons</td>\n",
              "      <td>Crime TV Shows, TV Dramas, TV Mysteries</td>\n",
              "      <td>This intense police procedural follows a group...</td>\n",
              "      <td>True</td>\n",
              "    </tr>\n",
              "    <tr>\n",
              "      <th>80176878</th>\n",
              "      <td>TV Show</td>\n",
              "      <td>Manhunt</td>\n",
              "      <td>Unknown</td>\n",
              "      <td>Sam Worthington, Paul Bettany, Chris Noth, Jer...</td>\n",
              "      <td>United States</td>\n",
              "      <td>September 19, 2017</td>\n",
              "      <td>2017</td>\n",
              "      <td>TV-14</td>\n",
              "      <td>1 Season</td>\n",
              "      <td>Crime TV Shows, TV Dramas, TV Mysteries</td>\n",
              "      <td>Faced with few clues and an increasingly panic...</td>\n",
              "      <td>True</td>\n",
              "    </tr>\n",
              "    <tr>\n",
              "      <th>80065182</th>\n",
              "      <td>TV Show</td>\n",
              "      <td>Limitless</td>\n",
              "      <td>Unknown</td>\n",
              "      <td>Jake McDorman, Jennifer Carpenter, Hill Harper...</td>\n",
              "      <td>United States</td>\n",
              "      <td>July 1, 2016</td>\n",
              "      <td>2016</td>\n",
              "      <td>TV-14</td>\n",
              "      <td>1 Season</td>\n",
              "      <td>Crime TV Shows, TV Dramas, TV Sci-Fi &amp; Fantasy</td>\n",
              "      <td>A failed musician unleashes his brain's full p...</td>\n",
              "      <td>True</td>\n",
              "    </tr>\n",
              "    <tr>\n",
              "      <th>80038358</th>\n",
              "      <td>Movie</td>\n",
              "      <td>Rampage: President Down</td>\n",
              "      <td>Uwe Boll</td>\n",
              "      <td>Brendan Fletcher, Steve Baran, Ryan McDonell, ...</td>\n",
              "      <td>Canada</td>\n",
              "      <td>January 5, 2017</td>\n",
              "      <td>2016</td>\n",
              "      <td>TV-MA</td>\n",
              "      <td>100 min</td>\n",
              "      <td>Action &amp; Adventure, International Movies</td>\n",
              "      <td>Lone-wolf vigilante Bill Williamson is back, t...</td>\n",
              "      <td>False</td>\n",
              "    </tr>\n",
              "    <tr>\n",
              "      <th>80049281</th>\n",
              "      <td>Movie</td>\n",
              "      <td>Secret in Their Eyes</td>\n",
              "      <td>Billy Ray</td>\n",
              "      <td>Chiwetel Ejiofor, Nicole Kidman, Julia Roberts...</td>\n",
              "      <td>United States, United Kingdom, Spain, South Korea</td>\n",
              "      <td>April 1, 2018</td>\n",
              "      <td>2015</td>\n",
              "      <td>PG-13</td>\n",
              "      <td>111 min</td>\n",
              "      <td>Dramas, Thrillers</td>\n",
              "      <td>A former FBI investigator reopens the haunting...</td>\n",
              "      <td>True</td>\n",
              "    </tr>\n",
              "    <tr>\n",
              "      <th>70177067</th>\n",
              "      <td>TV Show</td>\n",
              "      <td>Haven</td>\n",
              "      <td>Unknown</td>\n",
              "      <td>Emily Rose, Lucas Bryant, Nicholas Campbell, E...</td>\n",
              "      <td>Canada, United States</td>\n",
              "      <td>September 8, 2015</td>\n",
              "      <td>2015</td>\n",
              "      <td>TV-14</td>\n",
              "      <td>5 Seasons</td>\n",
              "      <td>Classic &amp; Cult TV, TV Horror, TV Mysteries</td>\n",
              "      <td>Residents of Haven, Maine, are plagued by supe...</td>\n",
              "      <td>True</td>\n",
              "    </tr>\n",
              "    <tr>\n",
              "      <th>80039644</th>\n",
              "      <td>Movie</td>\n",
              "      <td>(T)ERROR</td>\n",
              "      <td>Lyric R. Cabral, David Felix Sutcliffe</td>\n",
              "      <td>Unknown</td>\n",
              "      <td>United States</td>\n",
              "      <td>June 30, 2016</td>\n",
              "      <td>2015</td>\n",
              "      <td>NR</td>\n",
              "      <td>84 min</td>\n",
              "      <td>Documentaries</td>\n",
              "      <td>This real-life look at FBI counterterrorism op...</td>\n",
              "      <td>True</td>\n",
              "    </tr>\n",
              "    <tr>\n",
              "      <th>80024132</th>\n",
              "      <td>TV Show</td>\n",
              "      <td>Battle Creek</td>\n",
              "      <td>Unknown</td>\n",
              "      <td>Josh Duhamel, Dean Winters, Aubrey Dollar, Edw...</td>\n",
              "      <td>United States</td>\n",
              "      <td>December 31, 2015</td>\n",
              "      <td>2015</td>\n",
              "      <td>TV-14</td>\n",
              "      <td>1 Season</td>\n",
              "      <td>Crime TV Shows, TV Comedies, TV Dramas</td>\n",
              "      <td>A polished FBI agent must team up with a cynic...</td>\n",
              "      <td>True</td>\n",
              "    </tr>\n",
              "    <tr>\n",
              "      <th>70105371</th>\n",
              "      <td>Movie</td>\n",
              "      <td>The Informant!</td>\n",
              "      <td>Steven Soderbergh</td>\n",
              "      <td>Matt Damon, Scott Bakula, Joel McHale, Melanie...</td>\n",
              "      <td>United States</td>\n",
              "      <td>August 1, 2018</td>\n",
              "      <td>2009</td>\n",
              "      <td>R</td>\n",
              "      <td>108 min</td>\n",
              "      <td>Comedies, Dramas</td>\n",
              "      <td>While gathering evidence against his employer ...</td>\n",
              "      <td>True</td>\n",
              "    </tr>\n",
              "    <tr>\n",
              "      <th>70098332</th>\n",
              "      <td>Movie</td>\n",
              "      <td>Traitor</td>\n",
              "      <td>Jeffrey Nachmanoff</td>\n",
              "      <td>Don Cheadle, Guy Pearce, Saïd Taghmaoui, Neal ...</td>\n",
              "      <td>United States</td>\n",
              "      <td>July 1, 2018</td>\n",
              "      <td>2008</td>\n",
              "      <td>PG-13</td>\n",
              "      <td>114 min</td>\n",
              "      <td>Dramas, Thrillers</td>\n",
              "      <td>An FBI agent assigned to pursue an ex-Special ...</td>\n",
              "      <td>True</td>\n",
              "    </tr>\n",
              "    <tr>\n",
              "      <th>70066433</th>\n",
              "      <td>Movie</td>\n",
              "      <td>Next</td>\n",
              "      <td>Lee Tamahori</td>\n",
              "      <td>Nicolas Cage, Julianne Moore, Jessica Biel, Th...</td>\n",
              "      <td>United States</td>\n",
              "      <td>July 1, 2019</td>\n",
              "      <td>2007</td>\n",
              "      <td>PG-13</td>\n",
              "      <td>96 min</td>\n",
              "      <td>Action &amp; Adventure, Sci-Fi &amp; Fantasy</td>\n",
              "      <td>Las Vegas magician Cris can see a few minutes ...</td>\n",
              "      <td>True</td>\n",
              "    </tr>\n",
              "    <tr>\n",
              "      <th>70044705</th>\n",
              "      <td>Movie</td>\n",
              "      <td>Code Name: The Cleaner</td>\n",
              "      <td>Les Mayfield</td>\n",
              "      <td>Cedric the Entertainer, Lucy Liu, Nicollette S...</td>\n",
              "      <td>United States</td>\n",
              "      <td>November 1, 2019</td>\n",
              "      <td>2007</td>\n",
              "      <td>PG-13</td>\n",
              "      <td>91 min</td>\n",
              "      <td>Action &amp; Adventure, Comedies</td>\n",
              "      <td>A mild-mannered janitor duped into believing h...</td>\n",
              "      <td>True</td>\n",
              "    </tr>\n",
              "    <tr>\n",
              "      <th>70061480</th>\n",
              "      <td>Movie</td>\n",
              "      <td>War</td>\n",
              "      <td>Philip G. Atwell</td>\n",
              "      <td>Jet Li, Jason Statham, John Lone, Devon Aoki, ...</td>\n",
              "      <td>United States, Canada</td>\n",
              "      <td>April 1, 2019</td>\n",
              "      <td>2007</td>\n",
              "      <td>R</td>\n",
              "      <td>103 min</td>\n",
              "      <td>Action &amp; Adventure</td>\n",
              "      <td>When his partner is killed and all clues point...</td>\n",
              "      <td>True</td>\n",
              "    </tr>\n",
              "    <tr>\n",
              "      <th>60024942</th>\n",
              "      <td>Movie</td>\n",
              "      <td>Catch Me If You Can</td>\n",
              "      <td>Steven Spielberg</td>\n",
              "      <td>Leonardo DiCaprio, Tom Hanks, Christopher Walk...</td>\n",
              "      <td>United States, Canada</td>\n",
              "      <td>January 1, 2020</td>\n",
              "      <td>2002</td>\n",
              "      <td>PG-13</td>\n",
              "      <td>142 min</td>\n",
              "      <td>Dramas</td>\n",
              "      <td>An FBI agent makes it his mission to put cunni...</td>\n",
              "      <td>True</td>\n",
              "    </tr>\n",
              "    <tr>\n",
              "      <th>1151721</th>\n",
              "      <td>Movie</td>\n",
              "      <td>Donnie Brasco</td>\n",
              "      <td>Mike Newell</td>\n",
              "      <td>Al Pacino, Johnny Depp, Michael Madsen, Bruno ...</td>\n",
              "      <td>United States</td>\n",
              "      <td>January 1, 2020</td>\n",
              "      <td>1997</td>\n",
              "      <td>R</td>\n",
              "      <td>127 min</td>\n",
              "      <td>Dramas, Thrillers</td>\n",
              "      <td>When FBI agent Joe Pistone goes undercover to ...</td>\n",
              "      <td>True</td>\n",
              "    </tr>\n",
              "    <tr>\n",
              "      <th>70153408</th>\n",
              "      <td>TV Show</td>\n",
              "      <td>Twin Peaks</td>\n",
              "      <td>Unknown</td>\n",
              "      <td>Kyle MacLachlan, Michael Ontkean, Mädchen Amic...</td>\n",
              "      <td>United States</td>\n",
              "      <td>July 1, 2017</td>\n",
              "      <td>1990</td>\n",
              "      <td>TV-MA</td>\n",
              "      <td>2 Seasons</td>\n",
              "      <td>Classic &amp; Cult TV, Crime TV Shows, TV Dramas</td>\n",
              "      <td>\"Who killed Laura Palmer?\" is the question on ...</td>\n",
              "      <td>True</td>\n",
              "    </tr>\n",
              "  </tbody>\n",
              "</table>\n",
              "</div>"
            ],
            "text/plain": [
              "             type  ... is_produced_in_usa\n",
              "show_id            ...                   \n",
              "81053953    Movie  ...               True\n",
              "70281312  TV Show  ...               True\n",
              "80114855  TV Show  ...               True\n",
              "80077417  TV Show  ...               True\n",
              "80063740  TV Show  ...               True\n",
              "80173176    Movie  ...              False\n",
              "80201750  TV Show  ...               True\n",
              "70153390  TV Show  ...               True\n",
              "80176878  TV Show  ...               True\n",
              "80065182  TV Show  ...               True\n",
              "80038358    Movie  ...              False\n",
              "80049281    Movie  ...               True\n",
              "70177067  TV Show  ...               True\n",
              "80039644    Movie  ...               True\n",
              "80024132  TV Show  ...               True\n",
              "70105371    Movie  ...               True\n",
              "70098332    Movie  ...               True\n",
              "70066433    Movie  ...               True\n",
              "70044705    Movie  ...               True\n",
              "70061480    Movie  ...               True\n",
              "60024942    Movie  ...               True\n",
              "1151721     Movie  ...               True\n",
              "70153408  TV Show  ...               True\n",
              "\n",
              "[23 rows x 12 columns]"
            ]
          },
          "metadata": {},
          "execution_count": 23
        }
      ]
    },
    {
      "cell_type": "markdown",
      "metadata": {
        "id": "ziEIqkbkIUQr"
      },
      "source": [
        "## Section 4: Exploration\n",
        "**10 points each (30 points total)**\n",
        "\n",
        "Now choose **3** of your own questions/hypotheses that you would like to explore in this data set.  \n",
        "\n",
        "Write down your questions/hypotheses as well as your findings and code.  Questions should be of reasonable complexity (either involving data transformations like creating new columns, multiple conditions, or aggregations like `value_counts`)."
      ]
    },
    {
      "cell_type": "code",
      "metadata": {
        "id": "6mg-kCGVO4bd",
        "colab": {
          "base_uri": "https://localhost:8080/"
        },
        "outputId": "c92b5f8e-ce6b-4843-8fc6-34105518d110"
      },
      "source": [
        "#1 How many movies and TV shows feature the director in the cast?\n",
        "\n",
        "director_in_cast = [x[0] in x[1] for x in zip(netflix['director'], netflix['cast'])]\n",
        "#total_director_in_cast = sum(director_in_cast)\n",
        "netflix[\"director_in_cast\"] = director_in_cast\n",
        "unkn = netflix.director == \"Unknown\"\n",
        "total_excluding_unknown_directors = sum(director_in_cast & ~unkn)\n",
        "print(\"Total number of movies/TV shows where the director is featured in the cast:\")\n",
        "total_excluding_unknown_directors\n"
      ],
      "execution_count": 47,
      "outputs": [
        {
          "output_type": "stream",
          "name": "stdout",
          "text": [
            "Total number of movies/TV shows where the director is featured in the cast:\n"
          ]
        },
        {
          "output_type": "execute_result",
          "data": {
            "text/plain": [
              "205"
            ]
          },
          "metadata": {},
          "execution_count": 47
        }
      ]
    },
    {
      "cell_type": "code",
      "metadata": {
        "id": "pUGEkQwJO5dV",
        "colab": {
          "base_uri": "https://localhost:8080/"
        },
        "outputId": "20badf34-b3bb-482c-9e7f-4f31954ec4c1"
      },
      "source": [
        "#2 How many movies are both rated R or unrated movies are between 1-1.5 hours?\n",
        "\n",
        "is_rated_r = netflix.rating == \"R\"\n",
        "is_rated_ur = netflix.rating == \"UR\"\n",
        "is_over_hr = netflix.duration >= \"60 min\"\n",
        "is_under_hrhalf = netflix.duration <= \"90 min\"\n",
        "\n",
        "movie_count = sum(is_rated_r | is_rated_ur & is_over_hr & is_under_hrhalf)\n",
        "print(\"Total number of rated R & unrated movies between 1 - 1.5 hours:\")\n",
        "movie_count"
      ],
      "execution_count": 27,
      "outputs": [
        {
          "output_type": "stream",
          "name": "stdout",
          "text": [
            "Total number of rated R & unrated movies between 1 - 1.5 hours:\n"
          ]
        },
        {
          "output_type": "execute_result",
          "data": {
            "text/plain": [
              "509"
            ]
          },
          "metadata": {},
          "execution_count": 27
        }
      ]
    },
    {
      "cell_type": "code",
      "metadata": {
        "colab": {
          "base_uri": "https://localhost:8080/"
        },
        "id": "COFq7GhrXZCb",
        "outputId": "2d89d1c0-6206-492c-abef-03810b015c1e"
      },
      "source": [
        "# 3 how many movies in the last 3 years were added to Netflix in the same year they were released?\n",
        "\n",
        "added_2018 = netflix.date_added.str.contains(\"2018\")\n",
        "released_2018 = netflix.release_year == 2018\n",
        "added_2019 = netflix.date_added.str.contains(\"2019\")\n",
        "released_2019 = netflix.release_year == 2019\n",
        "added_2020 = netflix.date_added.str.contains(\"2020\")\n",
        "released_2020 = netflix.release_year == 2020\n",
        "\n",
        "sub_total_1 = sum(added_2019 & released_2019 & is_movie)\n",
        "sub_total_2 = sum(added_2018 & released_2018 & is_movie)\n",
        "sub_total_3 = sum(added_2020 & released_2020 & is_movie)\n",
        "\n",
        "#sub_total_1\n",
        "#sub_total_2\n",
        "#sub_total_3\n",
        "\n",
        "total = sub_total_1 + sub_total_2 + sub_total_3\n",
        "print(\"Total number of movies in the last 3 years that were added to Netflix in the same year they were released:\")\n",
        "total\n"
      ],
      "execution_count": 28,
      "outputs": [
        {
          "output_type": "stream",
          "name": "stdout",
          "text": [
            "Total number of movies in the last 3 years that were added to Netflix in the same year they were released:\n"
          ]
        },
        {
          "output_type": "execute_result",
          "data": {
            "text/plain": [
              "743"
            ]
          },
          "metadata": {},
          "execution_count": 28
        }
      ]
    }
  ]
}